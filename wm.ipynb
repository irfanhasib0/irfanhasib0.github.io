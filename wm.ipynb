{
 "cells": [
  {
   "cell_type": "code",
   "execution_count": 1,
   "id": "582ca722",
   "metadata": {},
   "outputs": [],
   "source": [
    "import glob\n",
    "import cv2\n",
    "from matplotlib import pyplot as plt\n",
    "import numpy as np"
   ]
  },
  {
   "cell_type": "code",
   "execution_count": 2,
   "id": "418d2f87",
   "metadata": {},
   "outputs": [
    {
     "name": "stdout",
     "output_type": "stream",
     "text": [
      "(1173, 723, 3) (1173, 723, 3)\n",
      "(518, 661, 3) (518, 661, 3)\n",
      "(2000, 1675, 3) (2000, 1675, 3)\n",
      "(2000, 808, 3) (2000, 808, 3)\n",
      "(1155, 922, 3) (1155, 922, 3)\n",
      "(2024, 1853, 3) (2024, 1853, 3)\n",
      "(2019, 862, 3) (2019, 862, 3)\n",
      "(1094, 858, 3) (1094, 858, 3)\n",
      "(2000, 640, 3) (2000, 640, 3)\n",
      "(725, 2245, 3) (725, 2245, 3)\n",
      "(803, 1138, 3) (803, 1138, 3)\n",
      "(724, 2264, 3) (724, 2264, 3)\n",
      "(1041, 1311, 3) (1041, 1311, 3)\n",
      "(583, 1563, 3) (583, 1563, 3)\n",
      "(845, 1334, 3) (845, 1334, 3)\n",
      "(1281, 1336, 3) (1281, 1336, 3)\n",
      "(833, 853, 3) (833, 853, 3)\n",
      "(874, 2772, 3) (874, 2772, 3)\n",
      "(789, 1649, 3) (789, 1649, 3)\n",
      "(1221, 1375, 3) (1221, 1375, 3)\n",
      "(559, 1915, 3) (559, 1915, 3)\n",
      "(1177, 1155, 3) (1177, 1155, 3)\n",
      "(833, 853, 3) (833, 853, 3)\n",
      "(1556, 1426, 3) (1556, 1426, 3)\n",
      "(703, 1424, 3) (703, 1424, 3)\n",
      "(8225, 5470, 3) (8225, 5470, 3)\n",
      "(864, 2823, 3) (864, 2823, 3)\n",
      "(3819, 4984, 3) (3819, 4984, 3)\n",
      "(5970, 7265, 3) (5970, 7265, 3)\n",
      "(1193, 723, 3) (1193, 723, 3)\n",
      "(3428, 4045, 3) (3428, 4045, 3)\n",
      "(1325, 1329, 3) (1325, 1329, 3)\n",
      "(793, 1391, 3) (793, 1391, 3)\n",
      "(3870, 8920, 3) (3870, 8920, 3)\n",
      "(3680, 5960, 3) (3680, 5960, 3)\n",
      "(3620, 9925, 3) (3620, 9925, 3)\n",
      "(709, 1077, 3) (709, 1077, 3)\n"
     ]
    },
    {
     "data": {
      "image/png": "[encoded data removed]",
      "text/plain": [
       "<Figure size 360x360 with 1 Axes>"
      ]
     },
     "metadata": {},
     "output_type": "display_data"
    }
   ],
   "source": [
    "#_str='Designed by - \\n Irfan Mohammad Al Hasib \\n mail : irfanhasib.me@gmail.com \\n https://irfanhasib0.github.io'\n",
    "_str='https://irfanhasib0.github.io'\n",
    "alpha=1.0\n",
    "fig,ax = plt.subplots(nrows=1,ncols=1,figsize=(5,5))\n",
    "plt.subplots_adjust(top = 1, bottom = 0, right = 1, left = 0, hspace = 0, wspace = 0)\n",
    "plt.margins(0,0)\n",
    "plt.gca().xaxis.set_major_locator(plt.NullLocator())\n",
    "plt.gca().yaxis.set_major_locator(plt.NullLocator())\n",
    "\n",
    "wimg=np.zeros((100,100,3))\n",
    "ax.imshow(wimg)\n",
    "x,y=wimg.shape[1]//3,wimg.shape[0]//3\n",
    "ax.text(x,y,_str,color='w',horizontalalignment='center',verticalalignment='center',fontsize=15,alpha=alpha,rotation=0)\n",
    "x,y=wimg.shape[1]//2,wimg.shape[0]//2\n",
    "ax.text(x,y,_str,color='w',horizontalalignment='center',verticalalignment='center',fontsize=15,alpha=alpha,rotation=0)\n",
    "x,y=2*wimg.shape[1]//3,2*wimg.shape[0]//3\n",
    "ax.text(x,y,_str,color='w',horizontalalignment='center',verticalalignment='center',fontsize=15,alpha=alpha,rotation=0)\n",
    "#ax.set_tight_layout()\n",
    "ax.axis('off')\n",
    "fig.savefig('E://irfanhasib0.github.io//docs//temp.png',dpi=100,pad_inches=0.0,box_inches='tight')\n",
    "\n",
    "paths=glob.glob('E://irfanhasib0.github.io//docs//old//Algorihms_back_up//*.jpg')\n",
    "frac=0.02\n",
    "for path in paths:\n",
    "    img=cv2.imread(path)\n",
    "    \n",
    "    wimg=cv2.imread('E://irfanhasib0.github.io//docs//temp.png')\n",
    "    wimg=cv2.resize(wimg,(img.shape[1],img.shape[0]))\n",
    "    #nimg=(1-frac)*img+frac*wimg\n",
    "    nimg=img-frac*wimg\n",
    "    print(img.shape,wimg.shape)\n",
    "    wpath=path.replace('old//','').replace('Algorihms_back_up','Algorihms')\n",
    "    cv2.imwrite(wpath,nimg)\n",
    "    #break"
   ]
  },
  {
   "cell_type": "code",
   "execution_count": 3,
   "id": "d2723994",
   "metadata": {},
   "outputs": [
    {
     "name": "stdout",
     "output_type": "stream",
     "text": [
      "Done\n"
     ]
    }
   ],
   "source": [
    "print('Done')"
   ]
  },
  {
   "cell_type": "code",
   "execution_count": null,
   "id": "9f7e7c4f",
   "metadata": {},
   "outputs": [],
   "source": []
  }
 ],
 "metadata": {
  "kernelspec": {
   "display_name": "Python 3",
   "language": "python",
   "name": "python3"
  },
  "language_info": {
   "codemirror_mode": {
    "name": "ipython",
    "version": 3
   },
   "file_extension": ".py",
   "mimetype": "text/x-python",
   "name": "python",
   "nbconvert_exporter": "python",
   "pygments_lexer": "ipython3",
   "version": "3.7.7"
  }
 },
 "nbformat": 4,
 "nbformat_minor": 5
}
