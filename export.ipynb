{
 "cells": [
  {
   "cell_type": "code",
   "execution_count": 30,
   "id": "b8d53ba3",
   "metadata": {},
   "outputs": [
    {
     "name": "stdout",
     "output_type": "stream",
     "text": [
      "[NbConvertApp] Converting notebook README.ipynb to html\n",
      "[NbConvertApp] Writing 636848 bytes to README.html\n"
     ]
    }
   ],
   "source": [
    "!jupyter nbconvert --to html README.ipynb \n",
    "!cp README.html app/public/readme.html"
   ]
  },
  {
   "cell_type": "code",
   "execution_count": 12,
   "id": "5650f31b-5746-4ff8-afc6-66a778ce2f75",
   "metadata": {},
   "outputs": [],
   "source": [
    "#!cp -r docs app/public/\n",
    "#!cp -r code app/public/"
   ]
  },
  {
   "cell_type": "code",
   "execution_count": null,
   "id": "f0743c40-345d-4810-996e-6429c85e5715",
   "metadata": {},
   "outputs": [],
   "source": []
  }
 ],
 "metadata": {
  "kernelspec": {
   "display_name": "Python 3 (ipykernel)",
   "language": "python",
   "name": "python3"
  },
  "language_info": {
   "codemirror_mode": {
    "name": "ipython",
    "version": 3
   },
   "file_extension": ".py",
   "mimetype": "text/x-python",
   "name": "python",
   "nbconvert_exporter": "python",
   "pygments_lexer": "ipython3",
   "version": "3.8.10"
  }
 },
 "nbformat": 4,
 "nbformat_minor": 5
}
