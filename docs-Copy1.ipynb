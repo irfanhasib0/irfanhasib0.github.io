{
 "cells": [
  {
   "cell_type": "code",
   "execution_count": null,
   "id": "04efae55",
   "metadata": {},
   "outputs": [],
   "source": [
    "1. Similarities among neighbouring pixels.\n",
    "1. Brightness, COlor, Texture"
   ]
  },
  {
   "cell_type": "markdown",
   "id": "1ee2119d",
   "metadata": {},
   "source": [
    "<img src='ml-docs/cnn/r-cnn.png'>"
   ]
  },
  {
   "cell_type": "markdown",
   "id": "d3748308",
   "metadata": {},
   "source": [
    "<img src='ml-docs/cnn/fast-r-cnn.png'>"
   ]
  },
  {
   "cell_type": "markdown",
   "id": "1e6ab77e",
   "metadata": {},
   "source": [
    "<img src='ml-docs/cnn/faster-r-cnn.png'>"
   ]
  },
  {
   "cell_type": "markdown",
   "id": "5670e626",
   "metadata": {},
   "source": [
    "<img src='ml-docs/cnn/mask-r-cnn.png'>"
   ]
  },
  {
   "cell_type": "markdown",
   "id": "4fecffba",
   "metadata": {},
   "source": [
    "<img src='ml-docs/cnn/yolo-algo.jpg'>"
   ]
  },
  {
   "cell_type": "markdown",
   "id": "4f31691b",
   "metadata": {},
   "source": [
    "<img src='ml-docs/cnn/ssd.jpg'>"
   ]
  },
  {
   "cell_type": "code",
   "execution_count": null,
   "id": "7941d5c5",
   "metadata": {},
   "outputs": [],
   "source": []
  }
 ],
 "metadata": {
  "kernelspec": {
   "display_name": "Python 3 (ipykernel)",
   "language": "python",
   "name": "python3"
  },
  "language_info": {
   "codemirror_mode": {
    "name": "ipython",
    "version": 3
   },
   "file_extension": ".py",
   "mimetype": "text/x-python",
   "name": "python",
   "nbconvert_exporter": "python",
   "pygments_lexer": "ipython3",
   "version": "3.8.10"
  }
 },
 "nbformat": 4,
 "nbformat_minor": 5
}
