{
 "cells": [
  {
   "cell_type": "code",
   "execution_count": 1,
   "metadata": {},
   "outputs": [],
   "source": [
    "from PIL import Image\n",
    "import glob\n",
    "import cv2\n",
    "from io import BytesIO"
   ]
  },
  {
   "cell_type": "code",
   "execution_count": 2,
   "metadata": {},
   "outputs": [],
   "source": [
    "cap = cv2.VideoCapture('/home/irfan/Videos/iNote_1.mp4')\n",
    "images_fig=[]\n",
    "i=0\n",
    "while 1:\n",
    "    ret,frame = cap.read()\n",
    "    if not ret: break\n",
    "    i+=1\n",
    "    if i%2==0: continue\n",
    "    frame = cv2.cvtColor(frame,cv2.COLOR_BGR2RGB)\n",
    "    img = Image.fromarray(frame)\n",
    "    images_fig.append(img)\n",
    "    \n",
    "    "
   ]
  },
  {
   "cell_type": "code",
   "execution_count": 28,
   "metadata": {},
   "outputs": [],
   "source": [
    "img_fig =images_fig[:455] +images_fig[490:]"
   ]
  },
  {
   "cell_type": "code",
   "execution_count": 29,
   "metadata": {},
   "outputs": [],
   "source": [
    " img_fig[0].save('stf_disc_tft.gif',save_all=True, append_images=images_fig[::4][1:], optimize=False, duration=200, loop=0)"
   ]
  },
  {
   "cell_type": "code",
   "execution_count": 4,
   "metadata": {},
   "outputs": [],
   "source": [
    "images_rec=[]\n",
    "\n",
    "for i in range(3404):\n",
    "    if i%20==0:\n",
    "        img=Image.open('Rec_iLQR_new/'+str(i)+'.jpg')\n",
    "        images_rec.append(img)"
   ]
  },
  {
   "cell_type": "code",
   "execution_count": 5,
   "metadata": {},
   "outputs": [],
   "source": [
    "images_rec[0].save('rec_123_test.gif',\n",
    "               save_all=True, append_images=images_rec[1:], optimize=False, duration=200, loop=0)"
   ]
  },
  {
   "cell_type": "code",
   "execution_count": 6,
   "metadata": {},
   "outputs": [],
   "source": [
    "images_rec_raw=[]\n",
    "\n",
    "for i in range(3404):\n",
    "    if i%20==0:\n",
    "        img=Image.open('Rec_iLQR_Raw_new/'+str(i)+'.jpg')\n",
    "        images_rec_raw.append(img)"
   ]
  },
  {
   "cell_type": "code",
   "execution_count": 7,
   "metadata": {},
   "outputs": [],
   "source": [
    "images_rec_raw[0].save('rec_raw_123_test.gif',\n",
    "               save_all=True, append_images=images_rec_raw[1:], optimize=False, duration=200, loop=0)"
   ]
  },
  {
   "cell_type": "code",
   "execution_count": null,
   "metadata": {},
   "outputs": [],
   "source": []
  },
  {
   "cell_type": "code",
   "execution_count": null,
   "metadata": {},
   "outputs": [],
   "source": []
  }
 ],
 "metadata": {
  "kernelspec": {
   "display_name": "Python 3 (ipykernel)",
   "language": "python",
   "name": "python3"
  },
  "language_info": {
   "codemirror_mode": {
    "name": "ipython",
    "version": 3
   },
   "file_extension": ".py",
   "mimetype": "text/x-python",
   "name": "python",
   "nbconvert_exporter": "python",
   "pygments_lexer": "ipython3",
   "version": "3.8.10"
  }
 },
 "nbformat": 4,
 "nbformat_minor": 4
}
