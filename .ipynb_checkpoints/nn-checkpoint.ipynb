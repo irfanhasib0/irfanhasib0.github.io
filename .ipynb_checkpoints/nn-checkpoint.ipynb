{
 "cells": [
  {
   "cell_type": "markdown",
   "id": "6c70607d-0dbf-4cf0-aa71-213ddc0d592c",
   "metadata": {},
   "source": [
    "<h3 color='blue'><b> Optimizers In NN</b><h3/>\n",
    "    \n",
    "<img src='./ml-docs/opt.svg' />"
   ]
  },
  {
   "cell_type": "code",
   "execution_count": 5,
   "id": "a0404ece-62d8-469c-8daa-937ba9bfe729",
   "metadata": {},
   "outputs": [
    {
     "name": "stdout",
     "output_type": "stream",
     "text": [
      "[NbConvertApp] Converting notebook nn.ipynb to html\n",
      "[NbConvertApp] Writing 575791 bytes to nn.html\n"
     ]
    }
   ],
   "source": [
    "!jupyter nbconvert nn.ipynb --to html"
   ]
  },
  {
   "cell_type": "markdown",
   "id": "744d9ba5-97df-4eb6-954b-32144c6c3cfb",
   "metadata": {},
   "source": []
  },
  {
   "cell_type": "code",
   "execution_count": null,
   "id": "898692fb-e4ef-480a-9d0b-da51b21c891b",
   "metadata": {},
   "outputs": [],
   "source": []
  }
 ],
 "metadata": {
  "kernelspec": {
   "display_name": "Python 3 (ipykernel)",
   "language": "python",
   "name": "python3"
  },
  "language_info": {
   "codemirror_mode": {
    "name": "ipython",
    "version": 3
   },
   "file_extension": ".py",
   "mimetype": "text/x-python",
   "name": "python",
   "nbconvert_exporter": "python",
   "pygments_lexer": "ipython3",
   "version": "3.8.10"
  }
 },
 "nbformat": 4,
 "nbformat_minor": 5
}
