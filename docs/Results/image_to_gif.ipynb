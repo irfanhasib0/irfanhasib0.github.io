{
 "cells": [
  {
   "cell_type": "code",
   "execution_count": 1,
   "metadata": {},
   "outputs": [],
   "source": [
    "from PIL import Image\n",
    "import glob"
   ]
  },
  {
   "cell_type": "code",
   "execution_count": 2,
   "metadata": {},
   "outputs": [],
   "source": [
    "images_fig=[]\n",
    "\n",
    "for i in range(3404):\n",
    "    if i%20==0:\n",
    "        img=Image.open('Fig_iLQR_new/'+str(i)+'.jpg')\n",
    "        images_fig.append(img)"
   ]
  },
  {
   "cell_type": "code",
   "execution_count": 3,
   "metadata": {},
   "outputs": [],
   "source": [
    "images_fig[0].save('fig_123_test.gif',\n",
    "               save_all=True, append_images=images_fig[1:], optimize=False, duration=200, loop=0)"
   ]
  },
  {
   "cell_type": "code",
   "execution_count": 4,
   "metadata": {},
   "outputs": [],
   "source": [
    "images_rec=[]\n",
    "\n",
    "for i in range(3404):\n",
    "    if i%20==0:\n",
    "        img=Image.open('Rec_iLQR_new/'+str(i)+'.jpg')\n",
    "        images_rec.append(img)"
   ]
  },
  {
   "cell_type": "code",
   "execution_count": 5,
   "metadata": {},
   "outputs": [],
   "source": [
    "images_rec[0].save('rec_123_test.gif',\n",
    "               save_all=True, append_images=images_rec[1:], optimize=False, duration=200, loop=0)"
   ]
  },
  {
   "cell_type": "code",
   "execution_count": 6,
   "metadata": {},
   "outputs": [],
   "source": [
    "images_rec_raw=[]\n",
    "\n",
    "for i in range(3404):\n",
    "    if i%20==0:\n",
    "        img=Image.open('Rec_iLQR_Raw_new/'+str(i)+'.jpg')\n",
    "        images_rec_raw.append(img)"
   ]
  },
  {
   "cell_type": "code",
   "execution_count": 7,
   "metadata": {},
   "outputs": [],
   "source": [
    "images_rec_raw[0].save('rec_raw_123_test.gif',\n",
    "               save_all=True, append_images=images_rec_raw[1:], optimize=False, duration=200, loop=0)"
   ]
  },
  {
   "cell_type": "code",
   "execution_count": null,
   "metadata": {},
   "outputs": [],
   "source": []
  },
  {
   "cell_type": "code",
   "execution_count": null,
   "metadata": {},
   "outputs": [],
   "source": []
  }
 ],
 "metadata": {
  "kernelspec": {
   "display_name": "Python 3",
   "language": "python",
   "name": "python3"
  },
  "language_info": {
   "codemirror_mode": {
    "name": "ipython",
    "version": 3
   },
   "file_extension": ".py",
   "mimetype": "text/x-python",
   "name": "python",
   "nbconvert_exporter": "python",
   "pygments_lexer": "ipython3",
   "version": "3.6.5"
  }
 },
 "nbformat": 4,
 "nbformat_minor": 4
}
